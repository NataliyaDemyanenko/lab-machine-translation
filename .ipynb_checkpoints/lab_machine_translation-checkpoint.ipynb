{
  "cells": [
    {
      "cell_type": "markdown",
      "metadata": {
        "id": "jGf6ST5UvNYE"
      },
      "source": [
        "# Lab | Text Generation from Shakespeare's Sonnet"
      ]
    },
    {
      "cell_type": "code",
      "execution_count": 40,
      "metadata": {
        "id": "BOwsuGQQY9OL"
      },
      "outputs": [],
      "source": [
        "from tensorflow.keras.preprocessing.sequence import pad_sequences\n",
        "from tensorflow.keras.layers import Embedding, LSTM, Dense, Dropout, Bidirectional\n",
        "from tensorflow.keras.preprocessing.text import Tokenizer\n",
        "from tensorflow.keras.models import Sequential\n",
        "from tensorflow.keras.optimizers import Adam\n",
        "### YOUR CODE HERE\n",
        "# Figure out how to import regularizers\n",
        "###\n",
        "import tensorflow.keras.regularizers as regularizers\n",
        "#from tensorflow.keras import regularizers\n",
        "import tensorflow.keras.utils as ku\n",
        "import numpy as np"
      ]
    },
    {
      "cell_type": "code",
      "source": [
        "import requests\n",
        "url = 'https://raw.githubusercontent.com/martin-gorner/tensorflow-rnn-shakespeare/master/shakespeare/sonnets.txt'\n",
        "resp = requests.get(url)\n",
        "with open('sonnets.txt', 'wb') as f:\n",
        "   f.write(resp.content)"
      ],
      "metadata": {
        "id": "mjBhqGzp6leI"
      },
      "execution_count": 12,
      "outputs": []
    },
    {
      "cell_type": "code",
      "source": [
        "# Ensure data is read and processed correctly\n",
        "with open(\"sonnets.txt\", \"r\") as file:\n",
        "    data = file.read()\n",
        "\n",
        "# Lowercase and split into lines\n",
        "corpus = data.lower().split(\"\\n\")\n",
        "\n",
        "# Tokenize the corpus\n",
        "tokenizer = Tokenizer()\n",
        "tokenizer.fit_on_texts(corpus)\n",
        "total_words = len(tokenizer.word_index) + 1\n",
        "vocab_size = len(tokenizer.word_index) + 1\n",
        "\n",
        "# Create input sequences using tokens\n",
        "input_sequences = []\n",
        "for line in corpus:\n",
        "    token_list = tokenizer.texts_to_sequences([line])[0]\n",
        "    for i in range(1, len(token_list)):\n",
        "        n_gram_sequence = token_list[:i+1]\n",
        "        input_sequences.append(n_gram_sequence)\n",
        "\n",
        "# Pad sequences to the maximum length\n",
        "max_sequence_len = max([len(x) for x in input_sequences])\n",
        "input_sequences = np.array(pad_sequences(input_sequences, maxlen=max_sequence_len, padding='pre'))\n",
        "\n",
        "# Create predictors and label\n",
        "predictors, label = input_sequences[:,:-1], input_sequences[:,-1]\n",
        "\n",
        "# Convert label to categorical\n",
        "label = ku.to_categorical(label, num_classes=total_words)\n",
        "\n",
        "# Shapes\n",
        "print(f\"Predictors shape: {predictors.shape}\")\n",
        "print(f\"Label shape: {label.shape}\")"
      ],
      "metadata": {
        "colab": {
          "base_uri": "https://localhost:8080/"
        },
        "id": "ghqp5f78PCpt",
        "outputId": "e5ddf02f-13bc-4a2c-8f73-d1932ded2546"
      },
      "execution_count": 53,
      "outputs": [
        {
          "output_type": "stream",
          "name": "stdout",
          "text": [
            "Predictors shape: (15484, 10)\n",
            "Label shape: (15484, 3375)\n"
          ]
        }
      ]
    },
    {
      "cell_type": "code",
      "source": [
        "vocab_size"
      ],
      "metadata": {
        "colab": {
          "base_uri": "https://localhost:8080/"
        },
        "id": "2Td6SjlxGf0g",
        "outputId": "c314d4be-f87f-4b28-bc50-99948aa9405b"
      },
      "execution_count": 24,
      "outputs": [
        {
          "output_type": "execute_result",
          "data": {
            "text/plain": [
              "3374"
            ]
          },
          "metadata": {},
          "execution_count": 24
        }
      ]
    },
    {
      "cell_type": "code",
      "source": [
        "#Set embedding dimensions\n",
        "embedding_dim = 100"
      ],
      "metadata": {
        "id": "mLL33ugbGnw-"
      },
      "execution_count": 25,
      "outputs": []
    },
    {
      "cell_type": "code",
      "execution_count": 58,
      "metadata": {
        "id": "w9vH8Y59ajYL",
        "colab": {
          "base_uri": "https://localhost:8080/"
        },
        "outputId": "2e5e972d-c85f-4439-ad4b-8d757af47bdc"
      },
      "outputs": [
        {
          "output_type": "stream",
          "name": "stdout",
          "text": [
            "Model: \"sequential_17\"\n",
            "_________________________________________________________________\n",
            " Layer (type)                Output Shape              Param #   \n",
            "=================================================================\n",
            " embedding_14 (Embedding)    (None, 10, 100)           337500    \n",
            "                                                                 \n",
            " lstm_28 (LSTM)              (None, 10, 128)           117248    \n",
            "                                                                 \n",
            " dropout_14 (Dropout)        (None, 10, 128)           0         \n",
            "                                                                 \n",
            " lstm_29 (LSTM)              (None, 128)               131584    \n",
            "                                                                 \n",
            " dense_18 (Dense)            (None, 128)               16512     \n",
            "                                                                 \n",
            " dense_19 (Dense)            (None, 3375)              435375    \n",
            "                                                                 \n",
            "=================================================================\n",
            "Total params: 1038219 (3.96 MB)\n",
            "Trainable params: 1038219 (3.96 MB)\n",
            "Non-trainable params: 0 (0.00 Byte)\n",
            "_________________________________________________________________\n",
            "None\n"
          ]
        }
      ],
      "source": [
        "model = Sequential()\n",
        "model.add(Embedding(input_dim=vocab_size, output_dim=embedding_dim, input_length=max_sequence_len-1),) #input_length=max_sequence_len - 1 is used because predictors are sequences that exclude the last word of each original sequence\n",
        "model.add(LSTM(units=128, return_sequences=True))  # Return sequences for the next LSTM layer\n",
        "model.add(Dropout(0.3))\n",
        "model.add(LSTM(units=128))\n",
        "model.add(Dense(units=128, activation='relu', kernel_regularizer=regularizers.l2(0.01))) #regularizers.l2(0.01) creates an L2 regularization penalty with a regularization strength of 0.01\n",
        "model.add(Dense(units=vocab_size, activation='softmax'))\n",
        "\n",
        "model.compile(optimizer='adam',\n",
        "              loss='categorical_crossentropy',\n",
        "              metrics=['accuracy'])\n",
        "print(model.summary())\n"
      ]
    },
    {
      "cell_type": "code",
      "source": [
        "history = model.fit(predictors, label, epochs=100, verbose=1)"
      ],
      "metadata": {
        "colab": {
          "base_uri": "https://localhost:8080/"
        },
        "id": "TtVkkX7-RgEx",
        "outputId": "cb744003-5886-46cc-da83-759f6b4a9c49"
      },
      "execution_count": 59,
      "outputs": [
        {
          "output_type": "stream",
          "name": "stdout",
          "text": [
            "Epoch 1/100\n",
            "484/484 [==============================] - 13s 19ms/step - loss: 7.0834 - accuracy: 0.0231\n",
            "Epoch 2/100\n",
            "484/484 [==============================] - 4s 9ms/step - loss: 6.5321 - accuracy: 0.0220\n",
            "Epoch 3/100\n",
            "484/484 [==============================] - 5s 10ms/step - loss: 6.4499 - accuracy: 0.0223\n",
            "Epoch 4/100\n",
            "484/484 [==============================] - 4s 8ms/step - loss: 6.3988 - accuracy: 0.0251\n",
            "Epoch 5/100\n",
            "484/484 [==============================] - 4s 8ms/step - loss: 6.3286 - accuracy: 0.0278\n",
            "Epoch 6/100\n",
            "484/484 [==============================] - 5s 10ms/step - loss: 6.2520 - accuracy: 0.0300\n",
            "Epoch 7/100\n",
            "484/484 [==============================] - 4s 8ms/step - loss: 6.1812 - accuracy: 0.0314\n",
            "Epoch 8/100\n",
            "484/484 [==============================] - 4s 8ms/step - loss: 6.1235 - accuracy: 0.0358\n",
            "Epoch 9/100\n",
            "484/484 [==============================] - 5s 10ms/step - loss: 6.0722 - accuracy: 0.0383\n",
            "Epoch 10/100\n",
            "484/484 [==============================] - 4s 8ms/step - loss: 6.0176 - accuracy: 0.0415\n",
            "Epoch 11/100\n",
            "484/484 [==============================] - 4s 8ms/step - loss: 5.9773 - accuracy: 0.0426\n",
            "Epoch 12/100\n",
            "484/484 [==============================] - 5s 9ms/step - loss: 5.9321 - accuracy: 0.0440\n",
            "Epoch 13/100\n",
            "484/484 [==============================] - 4s 8ms/step - loss: 5.8910 - accuracy: 0.0444\n",
            "Epoch 14/100\n",
            "484/484 [==============================] - 4s 8ms/step - loss: 5.8412 - accuracy: 0.0466\n",
            "Epoch 15/100\n",
            "484/484 [==============================] - 5s 9ms/step - loss: 5.7948 - accuracy: 0.0491\n",
            "Epoch 16/100\n",
            "484/484 [==============================] - 4s 8ms/step - loss: 5.7493 - accuracy: 0.0504\n",
            "Epoch 17/100\n",
            "484/484 [==============================] - 4s 8ms/step - loss: 5.6990 - accuracy: 0.0522\n",
            "Epoch 18/100\n",
            "484/484 [==============================] - 5s 10ms/step - loss: 5.6534 - accuracy: 0.0550\n",
            "Epoch 19/100\n",
            "484/484 [==============================] - 4s 8ms/step - loss: 5.6011 - accuracy: 0.0587\n",
            "Epoch 20/100\n",
            "484/484 [==============================] - 4s 8ms/step - loss: 5.5516 - accuracy: 0.0597\n",
            "Epoch 21/100\n",
            "484/484 [==============================] - 4s 9ms/step - loss: 5.4982 - accuracy: 0.0652\n",
            "Epoch 22/100\n",
            "484/484 [==============================] - 4s 9ms/step - loss: 5.4481 - accuracy: 0.0665\n",
            "Epoch 23/100\n",
            "484/484 [==============================] - 4s 8ms/step - loss: 5.3980 - accuracy: 0.0702\n",
            "Epoch 24/100\n",
            "484/484 [==============================] - 4s 9ms/step - loss: 5.3540 - accuracy: 0.0719\n",
            "Epoch 25/100\n",
            "484/484 [==============================] - 5s 10ms/step - loss: 5.3099 - accuracy: 0.0743\n",
            "Epoch 26/100\n",
            "484/484 [==============================] - 5s 11ms/step - loss: 5.2630 - accuracy: 0.0785\n",
            "Epoch 27/100\n",
            "484/484 [==============================] - 5s 10ms/step - loss: 5.2152 - accuracy: 0.0805\n",
            "Epoch 28/100\n",
            "484/484 [==============================] - 4s 9ms/step - loss: 5.1702 - accuracy: 0.0847\n",
            "Epoch 29/100\n",
            "484/484 [==============================] - 5s 9ms/step - loss: 5.1294 - accuracy: 0.0872\n",
            "Epoch 30/100\n",
            "484/484 [==============================] - 5s 10ms/step - loss: 5.0845 - accuracy: 0.0902\n",
            "Epoch 31/100\n",
            "484/484 [==============================] - 4s 9ms/step - loss: 5.0405 - accuracy: 0.0923\n",
            "Epoch 32/100\n",
            "484/484 [==============================] - 4s 9ms/step - loss: 5.0008 - accuracy: 0.0953\n",
            "Epoch 33/100\n",
            "484/484 [==============================] - 5s 11ms/step - loss: 4.9583 - accuracy: 0.1015\n",
            "Epoch 34/100\n",
            "484/484 [==============================] - 4s 9ms/step - loss: 4.9151 - accuracy: 0.1027\n",
            "Epoch 35/100\n",
            "484/484 [==============================] - 4s 9ms/step - loss: 4.8716 - accuracy: 0.1058\n",
            "Epoch 36/100\n",
            "484/484 [==============================] - 5s 10ms/step - loss: 4.8274 - accuracy: 0.1110\n",
            "Epoch 37/100\n",
            "484/484 [==============================] - 4s 9ms/step - loss: 4.7840 - accuracy: 0.1124\n",
            "Epoch 38/100\n",
            "484/484 [==============================] - 5s 10ms/step - loss: 4.7431 - accuracy: 0.1164\n",
            "Epoch 39/100\n",
            "484/484 [==============================] - 5s 10ms/step - loss: 4.7015 - accuracy: 0.1195\n",
            "Epoch 40/100\n",
            "484/484 [==============================] - 4s 8ms/step - loss: 4.6683 - accuracy: 0.1213\n",
            "Epoch 41/100\n",
            "484/484 [==============================] - 5s 10ms/step - loss: 4.6217 - accuracy: 0.1243\n",
            "Epoch 42/100\n",
            "484/484 [==============================] - 4s 8ms/step - loss: 4.5824 - accuracy: 0.1281\n",
            "Epoch 43/100\n",
            "484/484 [==============================] - 4s 9ms/step - loss: 4.5485 - accuracy: 0.1337\n",
            "Epoch 44/100\n",
            "484/484 [==============================] - 5s 9ms/step - loss: 4.5076 - accuracy: 0.1372\n",
            "Epoch 45/100\n",
            "484/484 [==============================] - 4s 8ms/step - loss: 4.4708 - accuracy: 0.1386\n",
            "Epoch 46/100\n",
            "484/484 [==============================] - 4s 8ms/step - loss: 4.4331 - accuracy: 0.1424\n",
            "Epoch 47/100\n",
            "484/484 [==============================] - 5s 10ms/step - loss: 4.3967 - accuracy: 0.1499\n",
            "Epoch 48/100\n",
            "484/484 [==============================] - 4s 8ms/step - loss: 4.3605 - accuracy: 0.1489\n",
            "Epoch 49/100\n",
            "484/484 [==============================] - 4s 8ms/step - loss: 4.3316 - accuracy: 0.1544\n",
            "Epoch 50/100\n",
            "484/484 [==============================] - 5s 10ms/step - loss: 4.2886 - accuracy: 0.1589\n",
            "Epoch 51/100\n",
            "484/484 [==============================] - 4s 8ms/step - loss: 4.2573 - accuracy: 0.1596\n",
            "Epoch 52/100\n",
            "484/484 [==============================] - 4s 8ms/step - loss: 4.2181 - accuracy: 0.1637\n",
            "Epoch 53/100\n",
            "484/484 [==============================] - 5s 10ms/step - loss: 4.1942 - accuracy: 0.1708\n",
            "Epoch 54/100\n",
            "484/484 [==============================] - 4s 8ms/step - loss: 4.1571 - accuracy: 0.1733\n",
            "Epoch 55/100\n",
            "484/484 [==============================] - 4s 8ms/step - loss: 4.1267 - accuracy: 0.1772\n",
            "Epoch 56/100\n",
            "484/484 [==============================] - 5s 10ms/step - loss: 4.0982 - accuracy: 0.1797\n",
            "Epoch 57/100\n",
            "484/484 [==============================] - 4s 9ms/step - loss: 4.0622 - accuracy: 0.1865\n",
            "Epoch 58/100\n",
            "484/484 [==============================] - 4s 8ms/step - loss: 4.0322 - accuracy: 0.1893\n",
            "Epoch 59/100\n",
            "484/484 [==============================] - 4s 9ms/step - loss: 4.0089 - accuracy: 0.1919\n",
            "Epoch 60/100\n",
            "484/484 [==============================] - 4s 9ms/step - loss: 3.9891 - accuracy: 0.1935\n",
            "Epoch 61/100\n",
            "484/484 [==============================] - 4s 8ms/step - loss: 3.9528 - accuracy: 0.2034\n",
            "Epoch 62/100\n",
            "484/484 [==============================] - 4s 9ms/step - loss: 3.9218 - accuracy: 0.2051\n",
            "Epoch 63/100\n",
            "484/484 [==============================] - 4s 9ms/step - loss: 3.8935 - accuracy: 0.2115\n",
            "Epoch 64/100\n",
            "484/484 [==============================] - 4s 8ms/step - loss: 3.8647 - accuracy: 0.2149\n",
            "Epoch 65/100\n",
            "484/484 [==============================] - 4s 9ms/step - loss: 3.8395 - accuracy: 0.2161\n",
            "Epoch 66/100\n",
            "484/484 [==============================] - 4s 9ms/step - loss: 3.8187 - accuracy: 0.2238\n",
            "Epoch 67/100\n",
            "484/484 [==============================] - 4s 8ms/step - loss: 3.7910 - accuracy: 0.2264\n",
            "Epoch 68/100\n",
            "484/484 [==============================] - 4s 8ms/step - loss: 3.7550 - accuracy: 0.2339\n",
            "Epoch 69/100\n",
            "484/484 [==============================] - 4s 9ms/step - loss: 3.7367 - accuracy: 0.2335\n",
            "Epoch 70/100\n",
            "484/484 [==============================] - 4s 9ms/step - loss: 3.7130 - accuracy: 0.2375\n",
            "Epoch 71/100\n",
            "484/484 [==============================] - 4s 9ms/step - loss: 3.6878 - accuracy: 0.2445\n",
            "Epoch 72/100\n",
            "484/484 [==============================] - 5s 9ms/step - loss: 3.6656 - accuracy: 0.2476\n",
            "Epoch 73/100\n",
            "484/484 [==============================] - 4s 8ms/step - loss: 3.6410 - accuracy: 0.2563\n",
            "Epoch 74/100\n",
            "484/484 [==============================] - 4s 8ms/step - loss: 3.6208 - accuracy: 0.2586\n",
            "Epoch 75/100\n",
            "484/484 [==============================] - 4s 9ms/step - loss: 3.6047 - accuracy: 0.2577\n",
            "Epoch 76/100\n",
            "484/484 [==============================] - 4s 8ms/step - loss: 3.5667 - accuracy: 0.2661\n",
            "Epoch 77/100\n",
            "484/484 [==============================] - 4s 8ms/step - loss: 3.5469 - accuracy: 0.2676\n",
            "Epoch 78/100\n",
            "484/484 [==============================] - 5s 10ms/step - loss: 3.5228 - accuracy: 0.2724\n",
            "Epoch 79/100\n",
            "484/484 [==============================] - 4s 8ms/step - loss: 3.5017 - accuracy: 0.2807\n",
            "Epoch 80/100\n",
            "484/484 [==============================] - 4s 8ms/step - loss: 3.4764 - accuracy: 0.2838\n",
            "Epoch 81/100\n",
            "484/484 [==============================] - 5s 10ms/step - loss: 3.4586 - accuracy: 0.2869\n",
            "Epoch 82/100\n",
            "484/484 [==============================] - 4s 8ms/step - loss: 3.4382 - accuracy: 0.2911\n",
            "Epoch 83/100\n",
            "484/484 [==============================] - 4s 9ms/step - loss: 3.4247 - accuracy: 0.2935\n",
            "Epoch 84/100\n",
            "484/484 [==============================] - 5s 10ms/step - loss: 3.3950 - accuracy: 0.3006\n",
            "Epoch 85/100\n",
            "484/484 [==============================] - 4s 8ms/step - loss: 3.3728 - accuracy: 0.3056\n",
            "Epoch 86/100\n",
            "484/484 [==============================] - 4s 8ms/step - loss: 3.3470 - accuracy: 0.3107\n",
            "Epoch 87/100\n",
            "484/484 [==============================] - 5s 10ms/step - loss: 3.3320 - accuracy: 0.3099\n",
            "Epoch 88/100\n",
            "484/484 [==============================] - 4s 8ms/step - loss: 3.3116 - accuracy: 0.3216\n",
            "Epoch 89/100\n",
            "484/484 [==============================] - 4s 8ms/step - loss: 3.2967 - accuracy: 0.3221\n",
            "Epoch 90/100\n",
            "484/484 [==============================] - 5s 10ms/step - loss: 3.2642 - accuracy: 0.3259\n",
            "Epoch 91/100\n",
            "484/484 [==============================] - 4s 8ms/step - loss: 3.2520 - accuracy: 0.3294\n",
            "Epoch 92/100\n",
            "484/484 [==============================] - 4s 9ms/step - loss: 3.2283 - accuracy: 0.3383\n",
            "Epoch 93/100\n",
            "484/484 [==============================] - 5s 10ms/step - loss: 3.2041 - accuracy: 0.3381\n",
            "Epoch 94/100\n",
            "484/484 [==============================] - 4s 8ms/step - loss: 3.1960 - accuracy: 0.3413\n",
            "Epoch 95/100\n",
            "484/484 [==============================] - 4s 8ms/step - loss: 3.1776 - accuracy: 0.3455\n",
            "Epoch 96/100\n",
            "484/484 [==============================] - 5s 10ms/step - loss: 3.1530 - accuracy: 0.3540\n",
            "Epoch 97/100\n",
            "484/484 [==============================] - 4s 8ms/step - loss: 3.1450 - accuracy: 0.3532\n",
            "Epoch 98/100\n",
            "484/484 [==============================] - 4s 8ms/step - loss: 3.1168 - accuracy: 0.3608\n",
            "Epoch 99/100\n",
            "484/484 [==============================] - 5s 10ms/step - loss: 3.1013 - accuracy: 0.3624\n",
            "Epoch 100/100\n",
            "484/484 [==============================] - 4s 8ms/step - loss: 3.0680 - accuracy: 0.3704\n"
          ]
        }
      ]
    },
    {
      "cell_type": "code",
      "execution_count": 60,
      "metadata": {
        "id": "1fXTEO3GJ282",
        "colab": {
          "base_uri": "https://localhost:8080/",
          "height": 887
        },
        "outputId": "9ee0f049-fdd7-43ec-9c8c-cae78486bd5b"
      },
      "outputs": [
        {
          "output_type": "display_data",
          "data": {
            "text/plain": [
              "<Figure size 640x480 with 1 Axes>"
            ],
            "image/png": "[encoded data removed]"
          },
          "metadata": {}
        },
        {
          "output_type": "display_data",
          "data": {
            "text/plain": [
              "<Figure size 640x480 with 1 Axes>"
            ],
            "image/png": "[encoded data removed]"
          },
          "metadata": {}
        }
      ],
      "source": [
        "import matplotlib.pyplot as plt\n",
        "acc = history.history['accuracy']\n",
        "loss = history.history['loss']\n",
        "\n",
        "epochs = range(len(acc))\n",
        "\n",
        "plt.plot(epochs, acc, 'b', label='Training accuracy')\n",
        "plt.title('Training accuracy')\n",
        "\n",
        "plt.figure()\n",
        "\n",
        "plt.plot(epochs, loss, 'b', label='Training Loss')\n",
        "plt.title('Training loss')\n",
        "plt.legend()\n",
        "\n",
        "plt.show()"
      ]
    },
    {
      "cell_type": "code",
      "source": [
        "seed_text = \"Help me Obi Wan Kenobi, you're my only hope\"\n",
        "next_words = 100\n",
        "\n",
        "for _ in range(next_words):\n",
        "    token_list = tokenizer.texts_to_sequences([seed_text])[0]\n",
        "    token_list = pad_sequences([token_list], maxlen=max_sequence_len-1, padding='pre')\n",
        "    predicted = model.predict(token_list, verbose=0)\n",
        "    predicted_index = np.argmax(predicted, axis=-1)[0]  # Get the first element\n",
        "\n",
        "    output_word = \"\"\n",
        "    for word, index in tokenizer.word_index.items():\n",
        "        if index == predicted_index:\n",
        "            output_word = word\n",
        "            break\n",
        "    seed_text += \" \" + output_word"
      ],
      "metadata": {
        "id": "hYW8Yz66URu3"
      },
      "execution_count": 63,
      "outputs": []
    },
    {
      "cell_type": "code",
      "source": [
        "print(seed_text)"
      ],
      "metadata": {
        "colab": {
          "base_uri": "https://localhost:8080/"
        },
        "id": "U1T9hMx5UY2w",
        "outputId": "66b65764-92f6-4720-860c-449733f7c1f3"
      },
      "execution_count": 64,
      "outputs": [
        {
          "output_type": "stream",
          "name": "stdout",
          "text": [
            "Help me Obi Wan Kenobi, you're my only hope to your own song slain lie dwells well delight ill brow quite gone twain dead brow year spends bear all ' ' open mother substantial expired can hue boundless slow held held hate lie ' commits back strange stopped are grow appear night well pride survey well reeks survey exceeds free gems clearer mightst reeks knit which rolling quite due ' to show my sight to bind to dark days rare nearly held wastes ' pride ' commits look or wanting kindness one me this thee know you have see rare ill due and night a way thoughts tend skill\n"
          ]
        }
      ]
    },
    {
      "cell_type": "code",
      "source": [
        "seed_text = \"I'm Gonna Be King Of The Pirates\"\n",
        "next_words = 100\n",
        "\n",
        "for _ in range(next_words):\n",
        "    token_list = tokenizer.texts_to_sequences([seed_text])[0]\n",
        "    token_list = pad_sequences([token_list], maxlen=max_sequence_len-1, padding='pre')\n",
        "    predicted = model.predict(token_list, verbose=0)\n",
        "    predicted_index = np.argmax(predicted, axis=-1)[0]  # Get the first element\n",
        "\n",
        "    output_word = \"\"\n",
        "    for word, index in tokenizer.word_index.items():\n",
        "        if index == predicted_index:\n",
        "            output_word = word\n",
        "            break\n",
        "    seed_text += \" \" + output_word\n",
        "\n"
      ],
      "metadata": {
        "id": "SW-KHEnPUd_S"
      },
      "execution_count": 67,
      "outputs": []
    },
    {
      "cell_type": "code",
      "source": [
        "    print(seed_text)"
      ],
      "metadata": {
        "colab": {
          "base_uri": "https://localhost:8080/"
        },
        "id": "gPKRCD81U2AX",
        "outputId": "f97cab81-b504-48c4-d8db-2b1846aa570c"
      },
      "execution_count": 68,
      "outputs": [
        {
          "output_type": "stream",
          "name": "stdout",
          "text": [
            "I'm Gonna Be King Of The Pirates steepy eyes defeated you now find rolling hate cross deserts twain ' deface wanting 'no ' discloses are such 'will will say thee store thine wrong now prepare my weary might blest so lie well disdain days ride date wrong twain ranged nearly survey more torn rehearse wastes age rhyme ' ' commits back stol'n i prognosticate hold to now my memory thrall pluck one open part bearing and well wanting lie with my life can be express'd room gone gone cold due repose and loving truth did day by lie doth go well defaced skill delight light brow brow\n"
          ]
        }
      ]
    },
    {
      "cell_type": "code",
      "source": [
        "seed_text = \"prepare for trouble! make it double! to protect the world from devastation! to unite All people within Our nation!\"\n",
        "next_words = 100\n",
        "\n",
        "for _ in range(next_words):\n",
        "    token_list = tokenizer.texts_to_sequences([seed_text])[0]\n",
        "    token_list = pad_sequences([token_list], maxlen=max_sequence_len-1, padding='pre')\n",
        "    predicted = model.predict(token_list, verbose=0)\n",
        "    predicted_index = np.argmax(predicted, axis=-1)[0]  # Get the first element\n",
        "\n",
        "    output_word = \"\"\n",
        "    for word, index in tokenizer.word_index.items():\n",
        "        if index == predicted_index:\n",
        "            output_word = word\n",
        "            break\n",
        "    seed_text += \" \" + output_word"
      ],
      "metadata": {
        "id": "dRxp475sU81i"
      },
      "execution_count": 69,
      "outputs": []
    },
    {
      "cell_type": "code",
      "source": [
        "   print(seed_text)"
      ],
      "metadata": {
        "colab": {
          "base_uri": "https://localhost:8080/"
        },
        "id": "aPzVDMcBU9kS",
        "outputId": "d2caec20-5b71-4773-9e93-40f0508cf68f"
      },
      "execution_count": 70,
      "outputs": [
        {
          "output_type": "stream",
          "name": "stdout",
          "text": [
            "prepare for trouble! make it double! to protect the world from devastation! to unite All people within Our nation! wastes part rhyme hate lie ' bearing a king then seasons' quality to ruminate be told move prove now wanting dreading one rare hue die hell lie might lie that thy love some now lay thee outworn see all delight kind date ' did now seem night well twain fled forgot gems fight ' behind a slow health blest must show one well outworn night pride kindness survey so twain gone cured more twain go truth old pride shines so date son appear now move afford free confound pluck one white told are now both show say say i mayst\n"
          ]
        }
      ]
    },
    {
      "cell_type": "code",
      "source": [
        "seed_text = \"Nothing's perfect, the world's not perfect, but it's there for us, trying the best it can. That's what makes it so damn beautiful.\"\n",
        "next_words = 100\n",
        "\n",
        "for _ in range(next_words):\n",
        "    token_list = tokenizer.texts_to_sequences([seed_text])[0]\n",
        "    token_list = pad_sequences([token_list], maxlen=max_sequence_len-1, padding='pre')\n",
        "    predicted = model.predict(token_list, verbose=0)\n",
        "    predicted_index = np.argmax(predicted, axis=-1)[0]  # Get the first element\n",
        "\n",
        "    output_word = \"\"\n",
        "    for word, index in tokenizer.word_index.items():\n",
        "        if index == predicted_index:\n",
        "            output_word = word\n",
        "            break\n",
        "    seed_text += \" \" + output_word"
      ],
      "metadata": {
        "id": "Foim5FfCVP0L"
      },
      "execution_count": 71,
      "outputs": []
    },
    {
      "cell_type": "code",
      "source": [
        "print(seed_text)"
      ],
      "metadata": {
        "colab": {
          "base_uri": "https://localhost:8080/"
        },
        "id": "LG7sZ_xRVQR5",
        "outputId": "015dfcc1-49d5-437e-9c9c-c1435ad5ac96"
      },
      "execution_count": 72,
      "outputs": [
        {
          "output_type": "stream",
          "name": "stdout",
          "text": [
            "Nothing's perfect, the world's not perfect, but it's there for us, trying the best it can. That's what makes it so damn beautiful. ' appear hate age ' can happy free reeks cured appear defaced up sounds ' ' by set well rehearse quite gone can be cross tend brought ' as lies bearing and night doth hell forsworn can be sort room prove now too twain told is twain well razed doom doth rare slain blest lies due torn ' survey now another loving sight is ranged must go waste new well delight now true place tell to show you even i have free now stay that wastes eyes muse hate day self hate glory delight scandal place doth go works that\n"
          ]
        }
      ]
    }
  ],
  "metadata": {
    "accelerator": "GPU",
    "colab": {
      "provenance": []
    },
    "kernelspec": {
      "display_name": "Python 3 (ipykernel)",
      "language": "python",
      "name": "python3"
    },
    "language_info": {
      "codemirror_mode": {
        "name": "ipython",
        "version": 3
      },
      "file_extension": ".py",
      "mimetype": "text/x-python",
      "name": "python",
      "nbconvert_exporter": "python",
      "pygments_lexer": "ipython3",
      "version": "3.11.8"
    }
  },
  "nbformat": 4,
  "nbformat_minor": 0
}